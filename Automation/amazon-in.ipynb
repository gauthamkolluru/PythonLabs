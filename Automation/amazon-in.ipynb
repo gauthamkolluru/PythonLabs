{
 "cells": [
  {
   "cell_type": "code",
   "execution_count": 1,
   "metadata": {},
   "outputs": [],
   "source": [
    "from selenium import webdriver"
   ]
  },
  {
   "cell_type": "code",
   "execution_count": 2,
   "metadata": {},
   "outputs": [],
   "source": [
    "webdriver_location = '/home/gautham/Downloads/chromedriver'"
   ]
  },
  {
   "cell_type": "code",
   "execution_count": 3,
   "metadata": {},
   "outputs": [],
   "source": [
    "driver = webdriver.Chrome(webdriver_location)"
   ]
  },
  {
   "cell_type": "code",
   "execution_count": 4,
   "metadata": {},
   "outputs": [],
   "source": [
    "driver.get('https://www.amazon.in/')"
   ]
  },
  {
   "cell_type": "code",
   "execution_count": 5,
   "metadata": {},
   "outputs": [
    {
     "name": "stdout",
     "output_type": "stream",
     "text": [
      "Help on method find_element_by_xpath in module selenium.webdriver.remote.webdriver:\n",
      "\n",
      "find_element_by_xpath(xpath) method of selenium.webdriver.chrome.webdriver.WebDriver instance\n",
      "    Finds an element by xpath.\n",
      "    \n",
      "    :Args:\n",
      "     - xpath - The xpath locator of the element to find.\n",
      "    \n",
      "    :Returns:\n",
      "     - WebElement - the element if it was found\n",
      "    \n",
      "    :Raises:\n",
      "     - NoSuchElementException - if the element wasn't found\n",
      "    \n",
      "    :Usage:\n",
      "        element = driver.find_element_by_xpath('//div/td[1]')\n",
      "\n"
     ]
    }
   ],
   "source": [
    "driver.find_element_by_xpath"
   ]
  }
 ],
 "metadata": {
  "kernelspec": {
   "display_name": "Python 3",
   "language": "python",
   "name": "python3"
  },
  "language_info": {
   "codemirror_mode": {
    "name": "ipython",
    "version": 3
   },
   "file_extension": ".py",
   "mimetype": "text/x-python",
   "name": "python",
   "nbconvert_exporter": "python",
   "pygments_lexer": "ipython3",
   "version": "3.7.4"
  }
 },
 "nbformat": 4,
 "nbformat_minor": 2
}
