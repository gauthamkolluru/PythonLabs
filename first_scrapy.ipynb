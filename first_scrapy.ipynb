{
 "cells": [
  {
   "cell_type": "code",
   "execution_count": null,
   "metadata": {},
   "outputs": [],
   "source": [
    "import scrapy"
   ]
  },
  {
   "cell_type": "code",
   "execution_count": 2,
   "metadata": {},
   "outputs": [],
   "source": [
    "class QuotesSprider(scrapy.Spider):\n",
    "    name = 'Gautham Quotes'\n",
    "    start_url = ['http://quotes.toscrape.com/tag/humor/']\n",
    "    \n",
    "    def parse(self, response):\n",
    "        for quote in response.css('div.quote'):\n",
    "            yield{\n",
    "                'text':quote.css('span.text::text').extract_first(),\n",
    "                'author':quote.xpath('span/small/text()').extracct_first(),\n",
    "            }\n",
    "            \n",
    "        next_page = response.css('li.next a::attr(\"href\")').extract_first()\n",
    "        \n",
    "        if next_page is not None:\n",
    "            yield response.follow(next_page. self.parse)"
   ]
  },
  {
   "cell_type": "code",
   "execution_count": null,
   "metadata": {},
   "outputs": [],
   "source": []
  },
  {
   "cell_type": "code",
   "execution_count": null,
   "metadata": {},
   "outputs": [],
   "source": []
  }
 ],
 "metadata": {
  "kernelspec": {
   "display_name": "Python 3",
   "language": "python",
   "name": "python3"
  },
  "language_info": {
   "codemirror_mode": {
    "name": "ipython",
    "version": 3
   },
   "file_extension": ".py",
   "mimetype": "text/x-python",
   "name": "python",
   "nbconvert_exporter": "python",
   "pygments_lexer": "ipython3",
   "version": "3.6.4"
  }
 },
 "nbformat": 4,
 "nbformat_minor": 2
}
