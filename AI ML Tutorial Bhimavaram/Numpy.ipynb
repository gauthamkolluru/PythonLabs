{
 "cells": [
  {
   "cell_type": "markdown",
   "metadata": {},
   "source": [
    "# Numpy and Pandas\n",
    "\n",
    "## Numpy:\n",
    "    1. What is Numpy?\n",
    "    2. what are Numpy arrays and how useful are they?\n",
    "    3. How to use Numpy and create Numpy arrays?\n",
    "    4. Basic and Universal functions on Numpy arrays\n",
    "    5. Practice"
   ]
  },
  {
   "cell_type": "markdown",
   "metadata": {},
   "source": [
    "### Numpy: \n",
    "> usually refered to as an abbreviation for *Numerical Python* and as the name suggests, it is a collection of functions and classes and methods grouped together for efficient mathemical computations.\n",
    "> Numpy is not part of a Standard Library => that, it does not come with the general distribution of python and therefore has to be installed using the below command\n",
    "```python\n",
    "pip install numpy\n",
    "```\n",
    "> if you want to install the module from your *Jupyter Notebook* then the command is as follows:\n",
    "```python\n",
    "!pip install numpy\n",
    "```\n",
    "\n",
    "> Numpy library is actually a sub-set of another mighty library called as ***\"Scipy\"*** referred to as an abbreviation for *Scientific Python*\n",
    "\n",
    "> To learn more about the libraries from the documentation\n",
    "\n",
    "- [Numpy Documentation](https://docs.scipy.org/doc/numpy/user/quickstart.html)\n",
    "\n",
    "- [Scipy Documentation](https://docs.scipy.org/doc/scipy/reference/)"
   ]
  },
  {
   "cell_type": "markdown",
   "metadata": {},
   "source": [
    "#### Numpy Array:\n",
    "\n",
    "> Numpy Arrays also called as *'ndarray'* is a powerful datastructure provided by Numpy library to work with homogeneous data.\n",
    "\n",
    "> This *homogeneous* structuring contributes to the highly effective and efficient handling of the data in the structure.\n",
    "\n",
    "> They are capable of handling multi-dimensional data."
   ]
  },
  {
   "cell_type": "markdown",
   "metadata": {},
   "source": [
    "#### Using Numpy\n",
    "\n",
    "After successfully installing Numpy, we must first load the library to be able to use it and to do so, we need to type the command below:\n",
    "\n",
    "```python\n",
    "import numpy as np\n",
    "```\n",
    "\n",
    "*import* -> command used to load a library\n",
    "\n",
    "*numpy* -> library name\n",
    "\n",
    "*as* -> command to set an alias for the library being imported\n",
    "\n",
    "*np* -> alias name for this project"
   ]
  },
  {
   "cell_type": "code",
   "execution_count": 2,
   "metadata": {},
   "outputs": [],
   "source": [
    "import numpy as np"
   ]
  },
  {
   "cell_type": "markdown",
   "metadata": {},
   "source": [
    "#### Creating Array\n",
    "\n",
    "```python\n",
    "\n",
    "a = [1,2,3,4,5]\n",
    "\n",
    "b = np.array(a)\n",
    "\n",
    "#or\n",
    "\n",
    "b = np.ndarray(a)\n",
    "```"
   ]
  },
  {
   "cell_type": "code",
   "execution_count": 3,
   "metadata": {},
   "outputs": [],
   "source": [
    "a = [51,26,13,43,59]\n",
    "\n",
    "b = np.array(a)"
   ]
  },
  {
   "cell_type": "code",
   "execution_count": 4,
   "metadata": {},
   "outputs": [
    {
     "name": "stdout",
     "output_type": "stream",
     "text": [
      "[51 26 13 43 59]\n"
     ]
    }
   ],
   "source": [
    "print(b)"
   ]
  },
  {
   "cell_type": "markdown",
   "metadata": {},
   "source": [
    "- Here 'b' is an numpy array object created for a regular list object 'a'\n",
    "- 'b' is a single dimensional array with 5 elements\n",
    "- we can use '.shape' attribute of the numpy arrays to check the shape (dimension) of the array object"
   ]
  },
  {
   "cell_type": "code",
   "execution_count": 5,
   "metadata": {},
   "outputs": [
    {
     "name": "stdout",
     "output_type": "stream",
     "text": [
      "(5,)\n"
     ]
    }
   ],
   "source": [
    "print(b.shape)"
   ]
  },
  {
   "cell_type": "markdown",
   "metadata": {},
   "source": [
    "- The datatype of the array can be check using the '.dtype' attribute"
   ]
  },
  {
   "cell_type": "code",
   "execution_count": 6,
   "metadata": {},
   "outputs": [
    {
     "data": {
      "text/plain": [
       "dtype('int64')"
      ]
     },
     "execution_count": 6,
     "metadata": {},
     "output_type": "execute_result"
    }
   ],
   "source": [
    "b.dtype"
   ]
  },
  {
   "cell_type": "markdown",
   "metadata": {},
   "source": [
    "##### Basic Functions on Arrays:\n",
    "\n",
    "- reshape()\n",
    "- arange()\n",
    "\n",
    "are the most required basic functions of numpy arrays"
   ]
  },
  {
   "cell_type": "markdown",
   "metadata": {},
   "source": [
    "- the shape of an array can be changed using the \n",
    "\n",
    "```python\n",
    ".reshape()\n",
    "```\n",
    "funtion on the array which takes parameters (rows,columns)"
   ]
  },
  {
   "cell_type": "code",
   "execution_count": 7,
   "metadata": {},
   "outputs": [
    {
     "data": {
      "text/plain": [
       "array([[51, 26, 13, 43, 59]])"
      ]
     },
     "execution_count": 7,
     "metadata": {},
     "output_type": "execute_result"
    }
   ],
   "source": [
    "# Changing the shape to 1 row and 5 Columns\n",
    "\n",
    "b.reshape(1,5)"
   ]
  },
  {
   "cell_type": "code",
   "execution_count": 8,
   "metadata": {},
   "outputs": [
    {
     "data": {
      "text/plain": [
       "array([[51],\n",
       "       [26],\n",
       "       [13],\n",
       "       [43],\n",
       "       [59]])"
      ]
     },
     "execution_count": 8,
     "metadata": {},
     "output_type": "execute_result"
    }
   ],
   "source": [
    "# Changing the shape to 5 rows and 1 Column\n",
    "\n",
    "\n",
    "b.reshape(5,1)"
   ]
  },
  {
   "cell_type": "code",
   "execution_count": 9,
   "metadata": {},
   "outputs": [
    {
     "data": {
      "text/plain": [
       "array([51, 26, 13, 43, 59])"
      ]
     },
     "execution_count": 9,
     "metadata": {},
     "output_type": "execute_result"
    }
   ],
   "source": [
    "# Changing the shape back to its original form\n",
    "\n",
    "\n",
    "b.reshape(5,)"
   ]
  },
  {
   "cell_type": "code",
   "execution_count": 10,
   "metadata": {},
   "outputs": [],
   "source": [
    "c = np.arange(len(b))"
   ]
  },
  {
   "cell_type": "code",
   "execution_count": 11,
   "metadata": {},
   "outputs": [
    {
     "name": "stdout",
     "output_type": "stream",
     "text": [
      "[0 1 2 3 4]\n"
     ]
    }
   ],
   "source": [
    "print(c)"
   ]
  },
  {
   "cell_type": "code",
   "execution_count": 12,
   "metadata": {},
   "outputs": [
    {
     "name": "stdout",
     "output_type": "stream",
     "text": [
      "<class 'numpy.ndarray'>\n"
     ]
    }
   ],
   "source": [
    "print(type(c))"
   ]
  },
  {
   "cell_type": "code",
   "execution_count": 13,
   "metadata": {},
   "outputs": [
    {
     "name": "stdout",
     "output_type": "stream",
     "text": [
      "int64\n"
     ]
    }
   ],
   "source": [
    "print(c.dtype)"
   ]
  },
  {
   "cell_type": "code",
   "execution_count": 14,
   "metadata": {},
   "outputs": [
    {
     "name": "stdout",
     "output_type": "stream",
     "text": [
      "(5,)\n"
     ]
    }
   ],
   "source": [
    "print(c.shape)"
   ]
  },
  {
   "cell_type": "markdown",
   "metadata": {},
   "source": [
    "##### Universal Functions on Arrays:\n",
    "\n",
    "1. Addition\n",
    "2. Multiplication\n",
    "3. min()\n",
    "4. max()"
   ]
  },
  {
   "cell_type": "markdown",
   "metadata": {},
   "source": [
    "> Universal functions are called so and are of high importance for the reason that they are applied on each individual element of the arrays interacting and produce a new array"
   ]
  },
  {
   "cell_type": "markdown",
   "metadata": {},
   "source": [
    "> For example, when we say b + c where 'b' and 'c' are numpy arrays, the resultant wowuld be another numpy array containing the sum of the corresponding elements in each array\n",
    "\n",
    "Refer below:"
   ]
  },
  {
   "cell_type": "code",
   "execution_count": 15,
   "metadata": {},
   "outputs": [
    {
     "name": "stdout",
     "output_type": "stream",
     "text": [
      "[51 27 15 46 63]\n"
     ]
    }
   ],
   "source": [
    "print(b+c)"
   ]
  },
  {
   "cell_type": "markdown",
   "metadata": {},
   "source": [
    "> Whereas in the addition operation between lists, it would result in a new list which is a concatenation of the given lists as below:"
   ]
  },
  {
   "cell_type": "code",
   "execution_count": 16,
   "metadata": {},
   "outputs": [
    {
     "name": "stdout",
     "output_type": "stream",
     "text": [
      "[1, 2, 3, 4, 5, 6, 7, 8]\n"
     ]
    }
   ],
   "source": [
    "d = [1,2,3,4]\n",
    "\n",
    "e = [5,6,7,8]\n",
    "\n",
    "print(d+e)"
   ]
  },
  {
   "cell_type": "code",
   "execution_count": 17,
   "metadata": {},
   "outputs": [
    {
     "name": "stdout",
     "output_type": "stream",
     "text": [
      "[160.14  81.64  40.82 135.02 185.26]\n"
     ]
    }
   ],
   "source": [
    "PI = 3.14\n",
    "\n",
    "print(b * PI)"
   ]
  },
  {
   "cell_type": "code",
   "execution_count": 18,
   "metadata": {},
   "outputs": [
    {
     "ename": "TypeError",
     "evalue": "can't multiply sequence by non-int of type 'float'",
     "output_type": "error",
     "traceback": [
      "\u001b[0;31m---------------------------------------------------------------------------\u001b[0m",
      "\u001b[0;31mTypeError\u001b[0m                                 Traceback (most recent call last)",
      "\u001b[0;32m<ipython-input-18-53f8201b5a94>\u001b[0m in \u001b[0;36m<module>\u001b[0;34m\u001b[0m\n\u001b[0;32m----> 1\u001b[0;31m \u001b[0mprint\u001b[0m\u001b[0;34m(\u001b[0m\u001b[0md\u001b[0m \u001b[0;34m*\u001b[0m \u001b[0mPI\u001b[0m\u001b[0;34m)\u001b[0m\u001b[0;34m\u001b[0m\u001b[0;34m\u001b[0m\u001b[0m\n\u001b[0m",
      "\u001b[0;31mTypeError\u001b[0m: can't multiply sequence by non-int of type 'float'"
     ]
    }
   ],
   "source": [
    "print(d * PI)"
   ]
  },
  {
   "cell_type": "markdown",
   "metadata": {},
   "source": [
    "##### Slicing over the Arrays:"
   ]
  },
  {
   "cell_type": "code",
   "execution_count": 19,
   "metadata": {},
   "outputs": [],
   "source": [
    "# Create an Array with 1500 elements in it\n",
    "\n",
    "c = np.arange(1,1501)"
   ]
  },
  {
   "cell_type": "code",
   "execution_count": 20,
   "metadata": {},
   "outputs": [],
   "source": [
    "# Reshape it to contain 150 Rows and 10 Columns => 150 * 10 = 1500 elements\n",
    "\n",
    "c = c.reshape(150,10)"
   ]
  },
  {
   "cell_type": "code",
   "execution_count": 21,
   "metadata": {},
   "outputs": [
    {
     "name": "stdout",
     "output_type": "stream",
     "text": [
      "[[ 1  2  3  4  5]\n",
      " [11 12 13 14 15]\n",
      " [21 22 23 24 25]\n",
      " [31 32 33 34 35]\n",
      " [41 42 43 44 45]]\n"
     ]
    }
   ],
   "source": [
    "print(c[:5,:5])"
   ]
  },
  {
   "cell_type": "code",
   "execution_count": 23,
   "metadata": {},
   "outputs": [
    {
     "name": "stdout",
     "output_type": "stream",
     "text": [
      "1\n"
     ]
    }
   ],
   "source": [
    "print(np.min(c))"
   ]
  },
  {
   "cell_type": "code",
   "execution_count": 24,
   "metadata": {},
   "outputs": [
    {
     "name": "stdout",
     "output_type": "stream",
     "text": [
      "1500\n"
     ]
    }
   ],
   "source": [
    "print(np.max(c))"
   ]
  },
  {
   "cell_type": "code",
   "execution_count": 25,
   "metadata": {},
   "outputs": [
    {
     "name": "stdout",
     "output_type": "stream",
     "text": [
      "750.5\n"
     ]
    }
   ],
   "source": [
    "print(np.average(c))"
   ]
  },
  {
   "cell_type": "code",
   "execution_count": 26,
   "metadata": {},
   "outputs": [
    {
     "name": "stdout",
     "output_type": "stream",
     "text": [
      "[  1  12  23  34  45  56  67  78  89 100]\n"
     ]
    }
   ],
   "source": [
    "print(np.diagonal(c))"
   ]
  },
  {
   "cell_type": "code",
   "execution_count": 28,
   "metadata": {},
   "outputs": [
    {
     "name": "stdout",
     "output_type": "stream",
     "text": [
      "1500\n"
     ]
    }
   ],
   "source": [
    "print(np.size(c))"
   ]
  },
  {
   "cell_type": "markdown",
   "metadata": {},
   "source": [
    "## Pandas:\n",
    "\n",
    "> Pandas is yet another Python library which is again not a part of the Standard Library and therefore requires installation\n",
    "\n",
    "```python\n",
    "pip install pandas\n",
    "```\n",
    "\n",
    "> Pandas provides a new datastructure called as *'Data Frames'* which is multi-dimensional and can be imagined to be something similar to that of the tables in databases or a sheet in the Excel / Spreadsheets and are *Highly Optimised*."
   ]
  },
  {
   "cell_type": "markdown",
   "metadata": {},
   "source": [
    "### Creating Dataframe:\n",
    "\n",
    "> One of the most common ways of creating a Pandas Dataframe is by passing a dictionary object to pandas.DataFrame() function."
   ]
  },
  {
   "cell_type": "code",
   "execution_count": 29,
   "metadata": {},
   "outputs": [],
   "source": [
    "# Before working with the Pandas library, first it needs to be imported.\n",
    "\n",
    "import pandas as pd"
   ]
  },
  {
   "cell_type": "code",
   "execution_count": 30,
   "metadata": {},
   "outputs": [],
   "source": [
    "example_dict = {'Name':['Talent Sprint','WISE1','WISE2'], 'Address':['Gacchibowli','BVRITH','SVECW']}"
   ]
  },
  {
   "cell_type": "code",
   "execution_count": 31,
   "metadata": {},
   "outputs": [
    {
     "name": "stdout",
     "output_type": "stream",
     "text": [
      "            Name      Address\n",
      "0  Talent Sprint  Gacchibowli\n",
      "1          WISE1       BVRITH\n",
      "2          WISE2        SVECW\n"
     ]
    }
   ],
   "source": [
    "example_dataframe = pd.DataFrame(example_dict)\n",
    "\n",
    "print(example_dataframe)"
   ]
  },
  {
   "cell_type": "markdown",
   "metadata": {},
   "source": [
    "Pandas are often known for their built-in functions which makes working with data a lot easier right from importing the data from an external CSV file."
   ]
  },
  {
   "cell_type": "code",
   "execution_count": 34,
   "metadata": {},
   "outputs": [],
   "source": [
    "data_frame = pd.read_csv('project_files/Admission_Predict.csv')"
   ]
  },
  {
   "cell_type": "code",
   "execution_count": 35,
   "metadata": {},
   "outputs": [
    {
     "name": "stdout",
     "output_type": "stream",
     "text": [
      "<class 'pandas.core.frame.DataFrame'>\n"
     ]
    }
   ],
   "source": [
    "print(type(data_frame))"
   ]
  },
  {
   "cell_type": "code",
   "execution_count": 36,
   "metadata": {},
   "outputs": [
    {
     "name": "stdout",
     "output_type": "stream",
     "text": [
      "     Serial No.  GRE Score  TOEFL Score  University Rating  SOP  LOR   CGPA  \\\n",
      "0             1        337          118                  4  4.5   4.5  9.65   \n",
      "1             2        324          107                  4  4.0   4.5  8.87   \n",
      "2             3        316          104                  3  3.0   3.5  8.00   \n",
      "3             4        322          110                  3  3.5   2.5  8.67   \n",
      "4             5        314          103                  2  2.0   3.0  8.21   \n",
      "5             6        330          115                  5  4.5   3.0  9.34   \n",
      "6             7        321          109                  3  3.0   4.0  8.20   \n",
      "7             8        308          101                  2  3.0   4.0  7.90   \n",
      "8             9        302          102                  1  2.0   1.5  8.00   \n",
      "9            10        323          108                  3  3.5   3.0  8.60   \n",
      "10           11        325          106                  3  3.5   4.0  8.40   \n",
      "11           12        327          111                  4  4.0   4.5  9.00   \n",
      "12           13        328          112                  4  4.0   4.5  9.10   \n",
      "13           14        307          109                  3  4.0   3.0  8.00   \n",
      "14           15        311          104                  3  3.5   2.0  8.20   \n",
      "15           16        314          105                  3  3.5   2.5  8.30   \n",
      "16           17        317          107                  3  4.0   3.0  8.70   \n",
      "17           18        319          106                  3  4.0   3.0  8.00   \n",
      "18           19        318          110                  3  4.0   3.0  8.80   \n",
      "19           20        303          102                  3  3.5   3.0  8.50   \n",
      "20           21        312          107                  3  3.0   2.0  7.90   \n",
      "21           22        325          114                  4  3.0   2.0  8.40   \n",
      "22           23        328          116                  5  5.0   5.0  9.50   \n",
      "23           24        334          119                  5  5.0   4.5  9.70   \n",
      "24           25        336          119                  5  4.0   3.5  9.80   \n",
      "25           26        340          120                  5  4.5   4.5  9.60   \n",
      "26           27        322          109                  5  4.5   3.5  8.80   \n",
      "27           28        298           98                  2  1.5   2.5  7.50   \n",
      "28           29        295           93                  1  2.0   2.0  7.20   \n",
      "29           30        310           99                  2  1.5   2.0  7.30   \n",
      "..          ...        ...          ...                ...  ...   ...   ...   \n",
      "370         371        310          103                  2  2.5   2.5  8.24   \n",
      "371         372        324          110                  3  3.5   3.0  9.22   \n",
      "372         373        336          119                  4  4.5   4.0  9.62   \n",
      "373         374        321          109                  3  3.0   3.0  8.54   \n",
      "374         375        315          105                  2  2.0   2.5  7.65   \n",
      "375         376        304          101                  2  2.0   2.5  7.66   \n",
      "376         377        297           96                  2  2.5   2.0  7.43   \n",
      "377         378        290          100                  1  1.5   2.0  7.56   \n",
      "378         379        303           98                  1  2.0   2.5  7.65   \n",
      "379         380        311           99                  1  2.5   3.0  8.43   \n",
      "380         381        322          104                  3  3.5   4.0  8.84   \n",
      "381         382        319          105                  3  3.0   3.5  8.67   \n",
      "382         383        324          110                  4  4.5   4.0  9.15   \n",
      "383         384        300          100                  3  3.0   3.5  8.26   \n",
      "384         385        340          113                  4  5.0   5.0  9.74   \n",
      "385         386        335          117                  5  5.0   5.0  9.82   \n",
      "386         387        302          101                  2  2.5   3.5  7.96   \n",
      "387         388        307          105                  2  2.0   3.5  8.10   \n",
      "388         389        296           97                  2  1.5   2.0  7.80   \n",
      "389         390        320          108                  3  3.5   4.0  8.44   \n",
      "390         391        314          102                  2  2.0   2.5  8.24   \n",
      "391         392        318          106                  3  2.0   3.0  8.65   \n",
      "392         393        326          112                  4  4.0   3.5  9.12   \n",
      "393         394        317          104                  2  3.0   3.0  8.76   \n",
      "394         395        329          111                  4  4.5   4.0  9.23   \n",
      "395         396        324          110                  3  3.5   3.5  9.04   \n",
      "396         397        325          107                  3  3.0   3.5  9.11   \n",
      "397         398        330          116                  4  5.0   4.5  9.45   \n",
      "398         399        312          103                  3  3.5   4.0  8.78   \n",
      "399         400        333          117                  4  5.0   4.0  9.66   \n",
      "\n",
      "     Research  Chance of Admit   \n",
      "0           1              0.92  \n",
      "1           1              0.76  \n",
      "2           1              0.72  \n",
      "3           1              0.80  \n",
      "4           0              0.65  \n",
      "5           1              0.90  \n",
      "6           1              0.75  \n",
      "7           0              0.68  \n",
      "8           0              0.50  \n",
      "9           0              0.45  \n",
      "10          1              0.52  \n",
      "11          1              0.84  \n",
      "12          1              0.78  \n",
      "13          1              0.62  \n",
      "14          1              0.61  \n",
      "15          0              0.54  \n",
      "16          0              0.66  \n",
      "17          1              0.65  \n",
      "18          0              0.63  \n",
      "19          0              0.62  \n",
      "20          1              0.64  \n",
      "21          0              0.70  \n",
      "22          1              0.94  \n",
      "23          1              0.95  \n",
      "24          1              0.97  \n",
      "25          1              0.94  \n",
      "26          0              0.76  \n",
      "27          1              0.44  \n",
      "28          0              0.46  \n",
      "29          0              0.54  \n",
      "..        ...               ...  \n",
      "370         0              0.72  \n",
      "371         1              0.89  \n",
      "372         1              0.95  \n",
      "373         1              0.79  \n",
      "374         0              0.39  \n",
      "375         0              0.38  \n",
      "376         0              0.34  \n",
      "377         0              0.47  \n",
      "378         0              0.56  \n",
      "379         1              0.71  \n",
      "380         1              0.78  \n",
      "381         1              0.73  \n",
      "382         1              0.82  \n",
      "383         0              0.62  \n",
      "384         1              0.96  \n",
      "385         1              0.96  \n",
      "386         0              0.46  \n",
      "387         0              0.53  \n",
      "388         0              0.49  \n",
      "389         1              0.76  \n",
      "390         0              0.64  \n",
      "391         0              0.71  \n",
      "392         1              0.84  \n",
      "393         0              0.77  \n",
      "394         1              0.89  \n",
      "395         1              0.82  \n",
      "396         1              0.84  \n",
      "397         1              0.91  \n",
      "398         0              0.67  \n",
      "399         1              0.95  \n",
      "\n",
      "[400 rows x 9 columns]\n"
     ]
    }
   ],
   "source": [
    "print(data_frame)"
   ]
  },
  {
   "cell_type": "code",
   "execution_count": 38,
   "metadata": {},
   "outputs": [
    {
     "name": "stdout",
     "output_type": "stream",
     "text": [
      "   Serial No.  GRE Score  TOEFL Score  University Rating  SOP  LOR   CGPA  \\\n",
      "0           1        337          118                  4  4.5   4.5  9.65   \n",
      "1           2        324          107                  4  4.0   4.5  8.87   \n",
      "2           3        316          104                  3  3.0   3.5  8.00   \n",
      "3           4        322          110                  3  3.5   2.5  8.67   \n",
      "4           5        314          103                  2  2.0   3.0  8.21   \n",
      "\n",
      "   Research  Chance of Admit   \n",
      "0         1              0.92  \n",
      "1         1              0.76  \n",
      "2         1              0.72  \n",
      "3         1              0.80  \n",
      "4         0              0.65  \n"
     ]
    }
   ],
   "source": [
    "# Check first 5 rows of data\n",
    "\n",
    "print(data_frame.head())"
   ]
  },
  {
   "cell_type": "code",
   "execution_count": 40,
   "metadata": {},
   "outputs": [
    {
     "name": "stdout",
     "output_type": "stream",
     "text": [
      "     Serial No.  GRE Score  TOEFL Score  University Rating  SOP  LOR   CGPA  \\\n",
      "395         396        324          110                  3  3.5   3.5  9.04   \n",
      "396         397        325          107                  3  3.0   3.5  9.11   \n",
      "397         398        330          116                  4  5.0   4.5  9.45   \n",
      "398         399        312          103                  3  3.5   4.0  8.78   \n",
      "399         400        333          117                  4  5.0   4.0  9.66   \n",
      "\n",
      "     Research  Chance of Admit   \n",
      "395         1              0.82  \n",
      "396         1              0.84  \n",
      "397         1              0.91  \n",
      "398         0              0.67  \n",
      "399         1              0.95  \n"
     ]
    }
   ],
   "source": [
    "# Check last 5 rows of data\n",
    "\n",
    "print(data_frame.tail())"
   ]
  },
  {
   "cell_type": "code",
   "execution_count": 43,
   "metadata": {},
   "outputs": [
    {
     "name": "stdout",
     "output_type": "stream",
     "text": [
      "(400, 9)\n"
     ]
    }
   ],
   "source": [
    "print(data_frame.shape)"
   ]
  },
  {
   "cell_type": "markdown",
   "metadata": {},
   "source": [
    "=> 400 Rows and 9 Columns"
   ]
  },
  {
   "cell_type": "markdown",
   "metadata": {},
   "source": [
    "#### Some common useful functions on the dataframes:"
   ]
  },
  {
   "cell_type": "code",
   "execution_count": 44,
   "metadata": {},
   "outputs": [
    {
     "name": "stdout",
     "output_type": "stream",
     "text": [
      "Serial No.             1.00\n",
      "GRE Score            290.00\n",
      "TOEFL Score           92.00\n",
      "University Rating      1.00\n",
      "SOP                    1.00\n",
      "LOR                    1.00\n",
      "CGPA                   6.80\n",
      "Research               0.00\n",
      "Chance of Admit        0.34\n",
      "dtype: float64\n"
     ]
    }
   ],
   "source": [
    "# Minimum values of each column\n",
    "\n",
    "print(data_frame.min())"
   ]
  },
  {
   "cell_type": "code",
   "execution_count": 45,
   "metadata": {},
   "outputs": [
    {
     "name": "stdout",
     "output_type": "stream",
     "text": [
      "Serial No.           400.00\n",
      "GRE Score            340.00\n",
      "TOEFL Score          120.00\n",
      "University Rating      5.00\n",
      "SOP                    5.00\n",
      "LOR                    5.00\n",
      "CGPA                   9.92\n",
      "Research               1.00\n",
      "Chance of Admit        0.97\n",
      "dtype: float64\n"
     ]
    }
   ],
   "source": [
    "# Maximum values of each column\n",
    "\n",
    "print(data_frame.max())"
   ]
  },
  {
   "cell_type": "code",
   "execution_count": 46,
   "metadata": {},
   "outputs": [
    {
     "name": "stdout",
     "output_type": "stream",
     "text": [
      "       Serial No.   GRE Score  TOEFL Score  University Rating         SOP  \\\n",
      "count  400.000000  400.000000   400.000000         400.000000  400.000000   \n",
      "mean   200.500000  316.807500   107.410000           3.087500    3.400000   \n",
      "std    115.614301   11.473646     6.069514           1.143728    1.006869   \n",
      "min      1.000000  290.000000    92.000000           1.000000    1.000000   \n",
      "25%    100.750000  308.000000   103.000000           2.000000    2.500000   \n",
      "50%    200.500000  317.000000   107.000000           3.000000    3.500000   \n",
      "75%    300.250000  325.000000   112.000000           4.000000    4.000000   \n",
      "max    400.000000  340.000000   120.000000           5.000000    5.000000   \n",
      "\n",
      "             LOR         CGPA    Research  Chance of Admit   \n",
      "count  400.000000  400.000000  400.000000        400.000000  \n",
      "mean     3.452500    8.598925    0.547500          0.724350  \n",
      "std      0.898478    0.596317    0.498362          0.142609  \n",
      "min      1.000000    6.800000    0.000000          0.340000  \n",
      "25%      3.000000    8.170000    0.000000          0.640000  \n",
      "50%      3.500000    8.610000    1.000000          0.730000  \n",
      "75%      4.000000    9.062500    1.000000          0.830000  \n",
      "max      5.000000    9.920000    1.000000          0.970000  \n"
     ]
    }
   ],
   "source": [
    "# Display summary statistics of each variable\n",
    "\n",
    "# the 'Describe()' function\n",
    "\n",
    "print(data_frame.describe())"
   ]
  },
  {
   "cell_type": "code",
   "execution_count": null,
   "metadata": {},
   "outputs": [],
   "source": []
  }
 ],
 "metadata": {
  "kernelspec": {
   "display_name": "Python 3",
   "language": "python",
   "name": "python3"
  },
  "language_info": {
   "codemirror_mode": {
    "name": "ipython",
    "version": 3
   },
   "file_extension": ".py",
   "mimetype": "text/x-python",
   "name": "python",
   "nbconvert_exporter": "python",
   "pygments_lexer": "ipython3",
   "version": "3.7.1"
  }
 },
 "nbformat": 4,
 "nbformat_minor": 2
}
