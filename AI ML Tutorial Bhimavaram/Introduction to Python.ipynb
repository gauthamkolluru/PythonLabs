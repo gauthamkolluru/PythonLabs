{
 "cells": [
  {
   "cell_type": "markdown",
   "metadata": {},
   "source": [
    "Contents:\n",
    "\n",
    "* [Introduction to Machine Learning](#ml)\n",
    "    * [Artificial Intelligence](#ai)\n",
    "    * [Categories of Machine Learning](#cml)\n",
    "        * [Supervised Learning](#sl)\n",
    "        * [Unsupervised Learning](#usl)"
   ]
  },
  {
   "cell_type": "markdown",
   "metadata": {},
   "source": [
    "# Introduction to Machine Learning <a id=\"ml\"></a>"
   ]
  },
  {
   "cell_type": "markdown",
   "metadata": {},
   "source": [
    "**Engineer's Definition:**\n",
    "\n",
    "> A computer program is said to learn from experience E with respect to some task T\n",
    "and some performance measure P, if its performance on T, as measured by P, improves\n",
    "with experience E.\n",
    "-- *Tom Mitchell, 1997*\n",
    "\n",
    "**Generic Definition:**\n",
    "\n",
    "> Machine learning is the science of making the computers learn behaviours from experiences (data)."
   ]
  },
  {
   "cell_type": "markdown",
   "metadata": {},
   "source": [
    "## AI / ML / DL: <a id=\"ai\"></a>\n",
    "\n",
    "> *Artificial Intelligence* (AI) is pretty much everything that involves imparting intelligence / decision making capability to a machine\n",
    "\n",
    "> *Machine Learning* (ML) a subset of AI that uses statistical techniques to provide computers with the ability to learn from data\n",
    "\n",
    "> *Deep Learning* (DL) is a subset of ML that deals with improving the efficiency of a machine learning system"
   ]
  },
  {
   "cell_type": "markdown",
   "metadata": {},
   "source": [
    "## Categories of Machine Learning: <a id=\"cml\"></a>\n",
    "\n",
    "### Supervised Learning: <a id=\"sl\"></a>\n",
    "\n",
    "> A model where every input is explicitly mentioned to be or not to be a specific object by labelling them.\n",
    "\n",
    "Ex: How have we learnt to identify an apple? weren't we shown an image and explicitly told that it is an apple?"
   ]
  },
  {
   "cell_type": "markdown",
   "metadata": {},
   "source": [
    "### Unsupervised Learning: <a id=\"usl\"></a>\n",
    "\n",
    "> A model where algorithm identifies all similar objects by its properties but doesn't explicitly know what it is."
   ]
  },
  {
   "cell_type": "code",
   "execution_count": null,
   "metadata": {},
   "outputs": [],
   "source": []
  }
 ],
 "metadata": {
  "kernelspec": {
   "display_name": "Python 3",
   "language": "python",
   "name": "python3"
  },
  "language_info": {
   "codemirror_mode": {
    "name": "ipython",
    "version": 3
   },
   "file_extension": ".py",
   "mimetype": "text/x-python",
   "name": "python",
   "nbconvert_exporter": "python",
   "pygments_lexer": "ipython3",
   "version": "3.7.1"
  }
 },
 "nbformat": 4,
 "nbformat_minor": 2
}
