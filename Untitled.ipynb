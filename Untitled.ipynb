{
 "cells": [
  {
   "cell_type": "code",
   "execution_count": 45,
   "metadata": {},
   "outputs": [
    {
     "name": "stdout",
     "output_type": "stream",
     "text": [
      "Enter a value for \"a\": 5+2j\n"
     ]
    }
   ],
   "source": [
    "import math\n",
    "\n",
    "a = complex(input('Enter a value for \"a\": '))"
   ]
  },
  {
   "cell_type": "code",
   "execution_count": 46,
   "metadata": {},
   "outputs": [
    {
     "name": "stdout",
     "output_type": "stream",
     "text": [
      "5.0\n",
      "2.0\n"
     ]
    }
   ],
   "source": [
    "print(a.real)\n",
    "print(a.imag)\n",
    "#b = float(input('Enter a value for \"b\": '))"
   ]
  },
  {
   "cell_type": "code",
   "execution_count": 47,
   "metadata": {},
   "outputs": [
    {
     "name": "stdout",
     "output_type": "stream",
     "text": [
      "5.385164807134504\n"
     ]
    }
   ],
   "source": [
    "r = math.sqrt((a.real*a.real)+(a.imag*a.imag))\n",
    "print(r)"
   ]
  },
  {
   "cell_type": "code",
   "execution_count": 48,
   "metadata": {},
   "outputs": [
    {
     "name": "stdout",
     "output_type": "stream",
     "text": [
      "0.3805063771123649\n"
     ]
    }
   ],
   "source": [
    "#tanO = atan2(b/a)\n",
    "o = math.atan2(a.imag,a.real)\n",
    "print(o)"
   ]
  },
  {
   "cell_type": "code",
   "execution_count": 49,
   "metadata": {},
   "outputs": [],
   "source": [
    "k = 0\n",
    "\n",
    "root1 =(r**1/3)*(complex((math.cos(((2*math.pi*k)+o)/3)),math.sin(((2*math.pi*k)+o)/3)))"
   ]
  },
  {
   "cell_type": "code",
   "execution_count": 50,
   "metadata": {},
   "outputs": [
    {
     "name": "stdout",
     "output_type": "stream",
     "text": [
      "(1.7806355478421614+0.22706665977872628j)\n"
     ]
    }
   ],
   "source": [
    "print(root1)"
   ]
  },
  {
   "cell_type": "code",
   "execution_count": 51,
   "metadata": {},
   "outputs": [
    {
     "name": "stdout",
     "output_type": "stream",
     "text": [
      "(-1.0869632696419356+1.42854228942357j)\n"
     ]
    }
   ],
   "source": [
    "k = 1\n",
    "\n",
    "root2 = (r**1/3)*(complex((math.cos(((2*math.pi*k)+o)/3)),math.sin(((2*math.pi*k)+o)/3)))\n",
    "print(root2)"
   ]
  },
  {
   "cell_type": "code",
   "execution_count": 52,
   "metadata": {},
   "outputs": [
    {
     "name": "stdout",
     "output_type": "stream",
     "text": [
      "(-0.6936722782002263-1.6556089492022958j)\n"
     ]
    }
   ],
   "source": [
    "k = 2\n",
    "\n",
    "root3 = (r**1/3)*(complex((math.cos(((2*math.pi*k)+o)/3)),math.sin(((2*math.pi*k)+o)/3)))\n",
    "print(root3)"
   ]
  },
  {
   "cell_type": "code",
   "execution_count": 53,
   "metadata": {},
   "outputs": [
    {
     "name": "stdout",
     "output_type": "stream",
     "text": [
      "(5.370370370370369+2.148148148148148j)\n",
      "(5.37037037037037+2.1481481481481444j)\n",
      "(5.370370370370373+2.1481481481481417j)\n"
     ]
    }
   ],
   "source": [
    "print(root1**3)\n",
    "print(root2**3)\n",
    "print(root3**3)"
   ]
  },
  {
   "cell_type": "code",
   "execution_count": 1,
   "metadata": {},
   "outputs": [],
   "source": [
    "import scrapy"
   ]
  },
  {
   "cell_type": "code",
   "execution_count": 2,
   "metadata": {},
   "outputs": [
    {
     "data": {
      "text/plain": [
       "['Field',\n",
       " 'FormRequest',\n",
       " 'Item',\n",
       " 'Request',\n",
       " 'Selector',\n",
       " 'Spider',\n",
       " '__all__',\n",
       " '__builtins__',\n",
       " '__cached__',\n",
       " '__doc__',\n",
       " '__file__',\n",
       " '__loader__',\n",
       " '__name__',\n",
       " '__package__',\n",
       " '__path__',\n",
       " '__spec__',\n",
       " '__version__',\n",
       " '_txv',\n",
       " 'exceptions',\n",
       " 'http',\n",
       " 'item',\n",
       " 'link',\n",
       " 'selector',\n",
       " 'signals',\n",
       " 'spiders',\n",
       " 'twisted_version',\n",
       " 'utils',\n",
       " 'version_info']"
      ]
     },
     "execution_count": 2,
     "metadata": {},
     "output_type": "execute_result"
    }
   ],
   "source": [
    "dir(scrapy)"
   ]
  },
  {
   "cell_type": "code",
   "execution_count": null,
   "metadata": {},
   "outputs": [],
   "source": []
  }
 ],
 "metadata": {
  "kernelspec": {
   "display_name": "Python 3",
   "language": "python",
   "name": "python3"
  },
  "language_info": {
   "codemirror_mode": {
    "name": "ipython",
    "version": 3
   },
   "file_extension": ".py",
   "mimetype": "text/x-python",
   "name": "python",
   "nbconvert_exporter": "python",
   "pygments_lexer": "ipython3",
   "version": "3.6.4"
  }
 },
 "nbformat": 4,
 "nbformat_minor": 2
}
