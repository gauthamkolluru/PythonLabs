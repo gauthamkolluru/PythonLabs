{
 "cells": [
  {
   "cell_type": "code",
   "execution_count": 1,
   "metadata": {},
   "outputs": [],
   "source": [
    "# Class PepsiCup with 5 teams. Print the complete points board and who won tournament.\n",
    "\n",
    "# input will be a string consisting team names, 'ABAABB' -> A plaved Vs B and A won and again A played vs B and B won and so on.\n",
    "\n",
    "# each win fetches 2 points for the team"
   ]
  },
  {
   "cell_type": "code",
   "execution_count": 2,
   "metadata": {},
   "outputs": [],
   "source": [
    "# Tasks:\n",
    "\n",
    "# 1. Identify Team Names\n",
    "\n",
    "# 2. Identify winning team\n",
    "\n",
    "# 3. Give Points to winning team\n",
    "\n",
    "# 4. Calculate which team secured highest points and Display winner\n",
    "\n",
    "# 5. Display the Leaderboard"
   ]
  },
  {
   "cell_type": "code",
   "execution_count": 40,
   "metadata": {},
   "outputs": [],
   "source": [
    "class Cricket():\n",
    "    def setTeams(self):\n",
    "        return set(self.scoreString)\n",
    "    def teamScores(self):\n",
    "        return [{(x,2 * self.scoreString.count(x)) for x in self.scoreString}]\n",
    "    def wonTour(self,scores):\n",
    "        return sorted([(x[-1],x[0]) for x in scores])[-1]\n",
    "        \n",
    "    def __init__(self,scoreString):\n",
    "        self.scoreString = scoreString\n",
    "        self.teams = self.setTeams()\n",
    "        self.scores = self.teamScores()\n",
    "        self.winTeam = self.wonTour(self.scores)\n",
    "    \n",
    "\n",
    "def display(args):\n",
    "    print('Team Name','\\t','Points Won')\n",
    "    print(args)\n",
    "    for k in args:\n",
    "        print(k[0],'\\t',k[-1])"
   ]
  },
  {
   "cell_type": "code",
   "execution_count": 41,
   "metadata": {},
   "outputs": [
    {
     "name": "stdout",
     "output_type": "stream",
     "text": [
      "Team Name \t Points Won\n",
      "[('A', 6), ('B', 8), ('A', 6), ('A', 6), ('B', 8), ('B', 8), ('B', 8)]\n",
      "A \t 6\n",
      "B \t 8\n",
      "A \t 6\n",
      "A \t 6\n",
      "B \t 8\n",
      "B \t 8\n",
      "B \t 8\n",
      "Team Name \t Points Won\n",
      "(8, 'B')\n"
     ]
    },
    {
     "ename": "TypeError",
     "evalue": "'int' object is not subscriptable",
     "output_type": "error",
     "traceback": [
      "\u001b[0;31m---------------------------------------------------------------------------\u001b[0m",
      "\u001b[0;31mTypeError\u001b[0m                                 Traceback (most recent call last)",
      "\u001b[0;32m<ipython-input-41-db928f30243e>\u001b[0m in \u001b[0;36m<module>\u001b[0;34m\u001b[0m\n\u001b[1;32m      1\u001b[0m \u001b[0mc\u001b[0m \u001b[0;34m=\u001b[0m \u001b[0mCricket\u001b[0m\u001b[0;34m(\u001b[0m\u001b[0;34m'ABAABBB'\u001b[0m\u001b[0;34m)\u001b[0m\u001b[0;34m\u001b[0m\u001b[0;34m\u001b[0m\u001b[0m\n\u001b[1;32m      2\u001b[0m \u001b[0mdisplay\u001b[0m\u001b[0;34m(\u001b[0m\u001b[0mc\u001b[0m\u001b[0;34m.\u001b[0m\u001b[0mscores\u001b[0m\u001b[0;34m)\u001b[0m\u001b[0;34m\u001b[0m\u001b[0;34m\u001b[0m\u001b[0m\n\u001b[0;32m----> 3\u001b[0;31m \u001b[0mdisplay\u001b[0m\u001b[0;34m(\u001b[0m\u001b[0mc\u001b[0m\u001b[0;34m.\u001b[0m\u001b[0mwinTeam\u001b[0m\u001b[0;34m)\u001b[0m\u001b[0;34m\u001b[0m\u001b[0;34m\u001b[0m\u001b[0m\n\u001b[0m",
      "\u001b[0;32m<ipython-input-40-652464ef72d6>\u001b[0m in \u001b[0;36mdisplay\u001b[0;34m(args)\u001b[0m\n\u001b[1;32m     18\u001b[0m     \u001b[0mprint\u001b[0m\u001b[0;34m(\u001b[0m\u001b[0margs\u001b[0m\u001b[0;34m)\u001b[0m\u001b[0;34m\u001b[0m\u001b[0;34m\u001b[0m\u001b[0m\n\u001b[1;32m     19\u001b[0m     \u001b[0;32mfor\u001b[0m \u001b[0mk\u001b[0m \u001b[0;32min\u001b[0m \u001b[0margs\u001b[0m\u001b[0;34m:\u001b[0m\u001b[0;34m\u001b[0m\u001b[0;34m\u001b[0m\u001b[0m\n\u001b[0;32m---> 20\u001b[0;31m         \u001b[0mprint\u001b[0m\u001b[0;34m(\u001b[0m\u001b[0mk\u001b[0m\u001b[0;34m[\u001b[0m\u001b[0;36m0\u001b[0m\u001b[0;34m]\u001b[0m\u001b[0;34m,\u001b[0m\u001b[0;34m'\\t'\u001b[0m\u001b[0;34m,\u001b[0m\u001b[0mk\u001b[0m\u001b[0;34m[\u001b[0m\u001b[0;34m-\u001b[0m\u001b[0;36m1\u001b[0m\u001b[0;34m]\u001b[0m\u001b[0;34m)\u001b[0m\u001b[0;34m\u001b[0m\u001b[0;34m\u001b[0m\u001b[0m\n\u001b[0m",
      "\u001b[0;31mTypeError\u001b[0m: 'int' object is not subscriptable"
     ]
    }
   ],
   "source": [
    "c = Cricket('ABAABBB')\n",
    "display(c.scores)\n",
    "display(c.winTeam)"
   ]
  },
  {
   "cell_type": "code",
   "execution_count": 99,
   "metadata": {},
   "outputs": [],
   "source": [
    "class Odometer():\n",
    "    lastVal = 89\n",
    "    firstVal = 12\n",
    "    def inputReading(self):\n",
    "         return input('Enter a reading of the Odometer: ')\n",
    "    \n",
    "    def givenReading(self,strVal):\n",
    "        strVal = list(strVal)\n",
    "        if '0' in strVal:\n",
    "            return False\n",
    "        return strVal == sorted(strVal) and len(set(strVal)) != 1\n",
    "    \n",
    "    def givenReading2Int(self, valRead):\n",
    "        return int(''.join(self.valRead))\n",
    "    \n",
    "    def nextReading(self, numValRead):\n",
    "        self.checkValidRead = True\n",
    "        self.numValRead = numValRead\n",
    "        if self.numValRead == Odometer.lastVal:\n",
    "            self.numValRead = Odometer.firstVal\n",
    "            return self.numValRead\n",
    "        else:\n",
    "            while self.checkValidRead:\n",
    "                self.numValRead += 1\n",
    "                self.checkValidRead = not self.givenReading(str(self.numValRead))\n",
    "        return self.numValRead\n",
    "    \n",
    "    def prevReading(self, numValRead):\n",
    "        self.checkValidRead = True\n",
    "        self.numValRead = numValRead\n",
    "        if self.numValRead == Odometer.firstVal:\n",
    "            self.numValRead = Odometer.lastVal\n",
    "            return self.numValRead\n",
    "        while self.checkValidRead:\n",
    "            self.numValRead -= 1\n",
    "            self.checkValidRead = not self.givenReading(str(self.numValRead))\n",
    "        return self.numValRead\n",
    "        \n",
    "    def display(self, reading):\n",
    "        self.reading = reading\n",
    "        if not self.reading:\n",
    "            print('Invalid Reading')\n",
    "        else:\n",
    "            print(self.reading)\n",
    "    \n",
    "    def __init__(self,unitsInOdo):\n",
    "        self.unitsInOdo = unitsInOdo\n",
    "        self.valRead = self.inputReading()\n",
    "        if not self.givenReading(self.valRead):\n",
    "            self.display(False)\n",
    "        self.intValRead = self.givenReading2Int(self.valRead)\n",
    "        self.display(self.nextReading(self.intValRead))\n",
    "        self.display(self.prevReading(self.intValRead))"
   ]
  },
  {
   "cell_type": "code",
   "execution_count": 100,
   "metadata": {},
   "outputs": [
    {
     "name": "stdout",
     "output_type": "stream",
     "text": [
      "Enter a reading of the Odometer: 56\n",
      "57\n",
      "49\n"
     ]
    }
   ],
   "source": [
    "read1 = Odometer(2)"
   ]
  },
  {
   "cell_type": "code",
   "execution_count": 122,
   "metadata": {},
   "outputs": [
    {
     "name": "stdout",
     "output_type": "stream",
     "text": [
      "360.0\n",
      "600.0\n"
     ]
    }
   ],
   "source": [
    "RULE = \"PF = 0.18 * BASIC if BASIC < 2500 else 0.20 * BASIC\"\n",
    "BASIC = 2000\n",
    "exec(RULE)\n",
    "print(PF)\n",
    "BASIC = 3000\n",
    "exec(RULE)\n",
    "print(PF)"
   ]
  },
  {
   "cell_type": "code",
   "execution_count": null,
   "metadata": {},
   "outputs": [],
   "source": []
  }
 ],
 "metadata": {
  "kernelspec": {
   "display_name": "Python 3",
   "language": "python",
   "name": "python3"
  },
  "language_info": {
   "codemirror_mode": {
    "name": "ipython",
    "version": 3
   },
   "file_extension": ".py",
   "mimetype": "text/x-python",
   "name": "python",
   "nbconvert_exporter": "python",
   "pygments_lexer": "ipython3",
   "version": "3.7.1"
  }
 },
 "nbformat": 4,
 "nbformat_minor": 2
}
