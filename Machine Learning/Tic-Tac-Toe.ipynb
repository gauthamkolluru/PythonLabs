{
 "cells": [
  {
   "cell_type": "code",
   "execution_count": 1,
   "metadata": {},
   "outputs": [],
   "source": [
    "import numpy as np\n",
    "\n",
    "from tensorflow.keras.models import Sequential\n",
    "from tensorflow.keras.layers import Flatten, Dense, Lambda, Activation, Dropout, Convolution2D\n",
    "#from tensorflow.keras.layers.convolutional import "
   ]
  },
  {
   "cell_type": "code",
   "execution_count": 162,
   "metadata": {},
   "outputs": [],
   "source": [
    "class Board:\n",
    "    def __init__(self, dimension):\n",
    "        self.dimension = dimension\n",
    "        self.initialize_board()\n",
    "    \n",
    "    def initialize_board(self):\n",
    "        self.board = np.zeros((2, self.dimension, self.dimension), dtype=int)\n",
    "        \n",
    "    def get_board(self):\n",
    "        b = []\n",
    "        for j in range(self.dimension):\n",
    "            row = []\n",
    "            for k in range(self.dimension):\n",
    "                if self.board[0][j][k] == 1:\n",
    "                    row.append('X')\n",
    "                if self.board[1][j][k] == 1:\n",
    "                    row.append('O')\n",
    "                if self.board[0][j][k] == 0 and self.board[1][j][k] == 0:\n",
    "                    row.append('-')\n",
    "            b.append(row)\n",
    "        return b\n",
    "        \n",
    "    def insertX(self, row, col):\n",
    "        if row < 0 or row >= self.dimension:\n",
    "            raise Exception('row value out of board.')\n",
    "        if col < 0 or col >= self.dimension:\n",
    "            raise Exception('column value out of board.')\n",
    "        self.board[0][row][col] = '1'\n",
    "        \n",
    "    def insertO(self, row, col):\n",
    "        if row < 0 or row >= self.dimension:\n",
    "            raise Exception('row value out of board.')\n",
    "        if col < 0 or col >= self.dimension:\n",
    "            raise Exception('column value out of board.')\n",
    "        self.board[1][row][col] = '1'\n",
    "        \n",
    "    def evaluate_board(self):\n",
    "        if self.__evaluate_win_X():\n",
    "            return 1\n",
    "        elif self.__evaluate_win_O():\n",
    "            return -1\n",
    "        elif self.__evaluate_draw():\n",
    "            return 0\n",
    "        elif self.__evaluate_game_in_progress():\n",
    "            return 2\n",
    "        \n",
    "    def __evaluate_win_X(self):\n",
    "        b = self.board[0]  #.ravel()\n",
    "#         b = int.from_bytes(bytes(''.join(map(lambda x : '1' if x else '0', b)), encoding='utf8'), byteorder='big')\n",
    "#         print(type(b))\n",
    "#         return b.to_bytes(9, byteorder='big'), (b >> 3).to_bytes(9, byteorder='big')\n",
    "        \n",
    "        \n",
    "        for i in range(self.dimension):\n",
    "            row_win = True\n",
    "            for j in range(self.dimension):\n",
    "                if b[i][j] == 0:\n",
    "                    row_win = False\n",
    "                    break\n",
    "            if row_win:\n",
    "                return True\n",
    "            \n",
    "        for i in range(self.dimension):\n",
    "            col_win = True\n",
    "            for j in range(self.dimension):\n",
    "                if b[j][i] == 0:\n",
    "                    col_win = False\n",
    "                    break\n",
    "            if col_win:\n",
    "                return True\n",
    "        \n",
    "        pre_diag_win = True    \n",
    "        for i in range(self.dimension):\n",
    "            if b[i][i] == 0:\n",
    "                pre_diag_win = False\n",
    "                break\n",
    "        if pre_diag_win:\n",
    "            return True\n",
    "        \n",
    "    def __evaluate_win_O(self):\n",
    "        b = self.board[1]\n",
    "        \n",
    "        for i in range(self.dimension):\n",
    "            row_win = True\n",
    "            for j in range(self.dimension):\n",
    "                if b[i][j] == 0:\n",
    "                    row_win = False\n",
    "                    break\n",
    "            if row_win:\n",
    "                return True\n",
    "            \n",
    "        for i in range(self.dimension):\n",
    "            col_win = True\n",
    "            for j in range(self.dimension):\n",
    "                if b[j][i] == 0:\n",
    "                    col_win = False\n",
    "                    break\n",
    "            if col_win:\n",
    "                return True\n",
    "        \n",
    "        pre_diag_win = True    \n",
    "        for i in range(self.dimension):\n",
    "            if b[i][i] == 0:\n",
    "                pre_diag_win = False\n",
    "                break\n",
    "        if pre_diag_win:\n",
    "            return True\n",
    "        \n",
    "        sec_diag_win = True    \n",
    "        for i in range(self.dimension):\n",
    "            if b[-i][-i] == 0:\n",
    "                sec_diag_win = False\n",
    "                break\n",
    "        if sec_diag_win:\n",
    "            return True\n",
    "        \n",
    "        return False\n",
    "\n",
    "    def __evaluate_draw(self):\n",
    "        b = self.get_board()\n",
    "        \n",
    "        for i in range(self.dimension):\n",
    "            for j in range(self.dimension):\n",
    "                if b[i][j] == '-':\n",
    "                    return False\n",
    "        return True\n",
    "    \n",
    "    def __evaluate_game_in_progress(self):\n",
    "        b = self.get_board()\n",
    "        \n",
    "        for i in range(self.dimension):\n",
    "            for j in range(self.dimension):\n",
    "                if b[i][j] == '-':\n",
    "                    return True\n",
    "        return False\n"
   ]
  },
  {
   "cell_type": "code",
   "execution_count": 163,
   "metadata": {},
   "outputs": [],
   "source": [
    "b = Board(3)"
   ]
  },
  {
   "cell_type": "code",
   "execution_count": 164,
   "metadata": {},
   "outputs": [
    {
     "data": {
      "text/plain": [
       "[['-', '-', '-'], ['-', '-', '-'], ['-', '-', '-']]"
      ]
     },
     "execution_count": 164,
     "metadata": {},
     "output_type": "execute_result"
    }
   ],
   "source": [
    "b.get_board()"
   ]
  },
  {
   "cell_type": "code",
   "execution_count": 165,
   "metadata": {},
   "outputs": [],
   "source": [
    "b.insertX(1,1)\n",
    "b.insertO(0,0)\n",
    "\n",
    "b.insertX(2,2)\n",
    "b.insertO(0,2)\n",
    "\n",
    "b.insertX(0,1)\n",
    "b.insertO(2,1)\n",
    "\n",
    "b.insertX(1,2)\n",
    "b.insertO(1,0)\n",
    "\n",
    "b.insertX(2,0)"
   ]
  },
  {
   "cell_type": "code",
   "execution_count": 166,
   "metadata": {},
   "outputs": [
    {
     "name": "stdout",
     "output_type": "stream",
     "text": [
      "0\n"
     ]
    }
   ],
   "source": [
    "print(b.evaluate_board())"
   ]
  },
  {
   "cell_type": "code",
   "execution_count": null,
   "metadata": {},
   "outputs": [],
   "source": [
    "# input -> 2*3*3\n",
    "# output -> -1 <= v <= 1\n",
    "\n",
    "model = Sequential()\n",
    "\n",
    "# Pre-processing data\n",
    "model.add(Lambda(lambda x: x/1.0 - 0.5, input_shape=(3, 3, 2)))\n",
    "model.add(Convolution2D(9, 3, 3, activation=\"relu\"))\n",
    "\n",
    "model.add(Flatten())\n",
    "\n",
    "model.add(Dense(5))\n",
    "model.add(Activation(\"relu\"))\n",
    "model.add(Dropout(rate=0.2))\n",
    "\n",
    "model.add(Dense(1))\n",
    "\n",
    "model.summary()"
   ]
  },
  {
   "cell_type": "code",
   "execution_count": null,
   "metadata": {},
   "outputs": [],
   "source": []
  }
 ],
 "metadata": {
  "kernelspec": {
   "display_name": "Python 3",
   "language": "python",
   "name": "python3"
  },
  "language_info": {
   "codemirror_mode": {
    "name": "ipython",
    "version": 3
   },
   "file_extension": ".py",
   "mimetype": "text/x-python",
   "name": "python",
   "nbconvert_exporter": "python",
   "pygments_lexer": "ipython3",
   "version": "3.7.3"
  }
 },
 "nbformat": 4,
 "nbformat_minor": 2
}
